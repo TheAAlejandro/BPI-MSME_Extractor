{
 "cells": [
  {
   "cell_type": "code",
   "execution_count": 5,
   "id": "bad0c52e-4ee5-4c4a-bbef-52000ef71f32",
   "metadata": {},
   "outputs": [],
   "source": [
    "#!pip install pyarrow fastparquet"
   ]
  },
  {
   "cell_type": "code",
   "execution_count": 7,
   "id": "b82b9e38-e194-40fc-a29d-250d5f5a98d2",
   "metadata": {},
   "outputs": [],
   "source": [
    "import pandas as pd\n",
    "\n",
    "# Read the CSV file into a Pandas DataFrame\n",
    "df = pd.read_csv('Extracted Data/Accounting.csv')\n",
    "\n",
    "# Convert the DataFrame to Parquet format\n",
    "df.to_parquet('Accounting.parquet', engine='pyarrow') "
   ]
  },
  {
   "cell_type": "code",
   "execution_count": 13,
   "id": "f1cc8cd4-e38e-433a-800d-cda1946f1a7a",
   "metadata": {},
   "outputs": [],
   "source": [
    "# Read the CSV file into a Pandas DataFrame\n",
    "df = pd.read_csv('Extracted Data/Advertising.csv')\n",
    "\n",
    "# Convert the DataFrame to Parquet format\n",
    "df.to_parquet('Advertising.parquet', engine='pyarrow')  # or 'fa"
   ]
  },
  {
   "cell_type": "code",
   "execution_count": 19,
   "id": "e2cc0484-aac1-481b-ab66-e98b5916ebc5",
   "metadata": {},
   "outputs": [],
   "source": [
    "# Read the CSV file into a Pandas DataFrame\n",
    "df = pd.read_csv('Extracted Data/Construction_Services.csv')\n",
    "\n",
    "# Convert the DataFrame to Parquet format\n",
    "df.to_parquet('Construction_Services.parquet', engine='pyarrow')  # or 'fa"
   ]
  },
  {
   "cell_type": "code",
   "execution_count": 21,
   "id": "bda19a3b-03be-48d4-891e-e1cb2ea06b3f",
   "metadata": {},
   "outputs": [],
   "source": [
    "# Read the CSV file into a Pandas DataFrame\n",
    "df = pd.read_csv('Extracted Data/DF_Electrical.csv')\n",
    "\n",
    "# Convert the DataFrame to Parquet format\n",
    "df.to_parquet('DF_Electrical.parquet', engine='pyarrow')  # or 'fa"
   ]
  },
  {
   "cell_type": "code",
   "execution_count": 23,
   "id": "8da1c6bc-402e-4ef4-bd70-221ad046c0d6",
   "metadata": {},
   "outputs": [],
   "source": [
    "# Read the CSV file into a Pandas DataFrame\n",
    "df = pd.read_csv('Extracted Data/Employment_Services.csv')\n",
    "\n",
    "# Convert the DataFrame to Parquet format\n",
    "df.to_parquet('Employment_Services.parquet', engine='pyarrow')  # or 'fa"
   ]
  },
  {
   "cell_type": "code",
   "execution_count": 27,
   "id": "add75987-aa1d-40ad-8a76-51227873598f",
   "metadata": {},
   "outputs": [],
   "source": [
    "# Read the CSV file into a Pandas DataFrame\n",
    "df = pd.read_csv('Extracted Data/General_Business.csv')\n",
    "\n",
    "# Convert the DataFrame to Parquet format\n",
    "df.to_parquet('General_Business.parquet', engine='pyarrow')  # or 'fa"
   ]
  },
  {
   "cell_type": "code",
   "execution_count": 29,
   "id": "543bcf41-0a4b-4a06-b3ed-39bd58f0c170",
   "metadata": {},
   "outputs": [],
   "source": [
    "# Read the CSV file into a Pandas DataFrame\n",
    "df = pd.read_csv('Extracted Data/Photography.csv')\n",
    "\n",
    "# Convert the DataFrame to Parquet format\n",
    "df.to_parquet('Photography.parquet', engine='pyarrow')  # or 'fa"
   ]
  },
  {
   "cell_type": "code",
   "execution_count": 31,
   "id": "78f881c3-b255-4882-8b8d-739e19c072d9",
   "metadata": {},
   "outputs": [],
   "source": [
    "# Read the CSV file into a Pandas DataFrame\n",
    "df = pd.read_csv('Extracted Data/Plumbing.csv')\n",
    "\n",
    "# Convert the DataFrame to Parquet format\n",
    "df.to_parquet('Plumbing.parquet', engine='pyarrow')  # or 'fa"
   ]
  },
  {
   "cell_type": "code",
   "execution_count": 33,
   "id": "cc4d5dad-6f96-49d5-bd7f-83b395f9a4b3",
   "metadata": {},
   "outputs": [],
   "source": [
    "# Read the CSV file into a Pandas DataFrame\n",
    "df = pd.read_csv('Extracted Data/Travel_Agents.csv')\n",
    "\n",
    "# Convert the DataFrame to Parquet format\n",
    "df.to_parquet('Travel_Agents.parquet', engine='pyarrow')  # or 'fa"
   ]
  },
  {
   "cell_type": "code",
   "execution_count": 35,
   "id": "99728427-f8ba-4e40-b6ae-fbf6b226a15c",
   "metadata": {},
   "outputs": [],
   "source": [
    "# Read the CSV file into a Pandas DataFrame\n",
    "df = pd.read_csv('Extracted Data/VS_Restaurant.csv')\n",
    "\n",
    "# Convert the DataFrame to Parquet format\n",
    "df.to_parquet('VS_Restaurant.parquet', engine='pyarrow')  # or 'fa"
   ]
  },
  {
   "cell_type": "code",
   "execution_count": null,
   "id": "2a89ffe4-aa7d-4dd3-9584-1a5535fbbedf",
   "metadata": {},
   "outputs": [],
   "source": []
  }
 ],
 "metadata": {
  "kernelspec": {
   "display_name": "Python 3 (ipykernel)",
   "language": "python",
   "name": "python3"
  },
  "language_info": {
   "codemirror_mode": {
    "name": "ipython",
    "version": 3
   },
   "file_extension": ".py",
   "mimetype": "text/x-python",
   "name": "python",
   "nbconvert_exporter": "python",
   "pygments_lexer": "ipython3",
   "version": "3.12.4"
  }
 },
 "nbformat": 4,
 "nbformat_minor": 5
}
